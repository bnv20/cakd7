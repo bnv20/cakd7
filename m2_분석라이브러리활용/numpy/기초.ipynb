{
 "cells": [
  {
   "cell_type": "markdown",
   "id": "3676d21d",
   "metadata": {},
   "source": [
    "#### NumPy는 “Numerical Python“의 약자로 대규모 다차원 배열과 행렬 연산에 필요한 다양한 함수를 제공\n",
    "* Numerical Python을 의미하는 NumPy는 파이썬에서 선형대수 기반의 프로그램을 쉽게 만들 수 있도록 지원하는 대표적인 패키지\n",
    "* 많은 머신러닝 알고리즘이 넘파이 기반으로 작성돼 있으며 알고리즘의 입출력 데이터를 넘파이 배열 타입으로 사용함\n",
    "* 넘파이의 기본 데이터 타입은 ndarray. ndarray를 이용해 넘파이에서 다차원 배열을 쉽게 생성하고 다양한 연산 수행\n",
    "\n",
    "NumPy 특징\n",
    "\n",
    "- 강력한 N 차원 배열 객체\n",
    "- 정교한 브로드케스팅(Broadcast) 기능\n",
    "- C/C ++ 및 포트란 코드 통합 도구\n",
    "- 유용한 선형 대수학, 푸리에 변환 및 난수 기능\n",
    "- 푸리에 변환(Fourier transform, FT)은 시간이나 공간에 대한 함수를 시간 또는 공간 주파수 성분으로 분해하는 변환\n",
    "- 범용적 데이터 처리에 사용 가능한 다차원 컨테이너\n",
    "\n",
    "Numpy Documentation  \n",
    "\n",
    "https://numpy.org/doc/1.21/index.html\n"
   ]
  },
  {
   "cell_type": "code",
   "execution_count": 3,
   "id": "c715c79f",
   "metadata": {},
   "outputs": [
    {
     "name": "stdout",
     "output_type": "stream",
     "text": [
      "40 bytes\n"
     ]
    }
   ],
   "source": [
    "import numpy as np\n",
    "z = np.arange(10)\n",
    "print(f'{z.size*z.itemsize} bytes')"
   ]
  },
  {
   "cell_type": "code",
   "execution_count": 4,
   "id": "7427025f",
   "metadata": {},
   "outputs": [],
   "source": [
    "# Numpy는 내부적으로 데이터를 다른 내장 파이썬 객체와 구분된 연속된 메모리 블록에 저장\n",
    "my_arr = np.arange(1000000)\n",
    "my_list = list(range(1000000))"
   ]
  },
  {
   "cell_type": "code",
   "execution_count": 5,
   "id": "5c79c88a",
   "metadata": {},
   "outputs": [
    {
     "name": "stdout",
     "output_type": "stream",
     "text": [
      "CPU times: total: 0 ns\n",
      "Wall time: 14 ms\n"
     ]
    }
   ],
   "source": [
    "# '_'은 값을 무시하고 싶은 경우 사용(여기서는 인덱스 무시)\n",
    "%time for _ in range(10): my_array2 = my_arr*2"
   ]
  },
  {
   "cell_type": "code",
   "execution_count": 6,
   "id": "3e0534dc",
   "metadata": {},
   "outputs": [
    {
     "name": "stdout",
     "output_type": "stream",
     "text": [
      "CPU times: total: 625 ms\n",
      "Wall time: 621 ms\n"
     ]
    }
   ],
   "source": [
    "%time for _ in range(10): my_list2 = [x*2 for x in my_list]"
   ]
  },
  {
   "cell_type": "code",
   "execution_count": 7,
   "id": "57c986ce",
   "metadata": {},
   "outputs": [
    {
     "name": "stdout",
     "output_type": "stream",
     "text": [
      "[[-2.04967372 -1.33919638 -2.53708695]\n",
      " [-0.64864391 -0.24652927 -1.61590152]] \n",
      "\n",
      "[[-20.49673716 -13.3919638  -25.37086951]\n",
      " [ -6.48643906  -2.46529271 -16.15901523]] \n",
      "\n",
      "[[-4.09934743 -2.67839276 -5.0741739 ]\n",
      " [-1.29728781 -0.49305854 -3.23180305]]\n"
     ]
    }
   ],
   "source": [
    "# 배열 연산\n",
    "data = np.random.randn(2,3)\n",
    "print(data,'\\n')\n",
    "print(data * 10, '\\n')\n",
    "print(data + data)"
   ]
  },
  {
   "cell_type": "code",
   "execution_count": 8,
   "id": "556223fe",
   "metadata": {},
   "outputs": [
    {
     "name": "stdout",
     "output_type": "stream",
     "text": [
      "(2, 3)\n",
      "float64\n",
      "2\n"
     ]
    }
   ],
   "source": [
    "print(data.shape)\n",
    "print(data.dtype)\n",
    "print(data.ndim)"
   ]
  },
  {
   "cell_type": "markdown",
   "id": "05c3ccb8",
   "metadata": {},
   "source": [
    "다차원 배열\n",
    "\n",
    "<img src = 'numpy차원.jpg' STYLE='width:500px;'>"
   ]
  },
  {
   "cell_type": "code",
   "execution_count": 9,
   "id": "6f7704c6",
   "metadata": {},
   "outputs": [
    {
     "data": {
      "text/plain": [
       "array([[1, 2, 3, 4],\n",
       "       [5, 6, 7, 8]])"
      ]
     },
     "execution_count": 9,
     "metadata": {},
     "output_type": "execute_result"
    }
   ],
   "source": [
    "# 다차원 배열\n",
    "data2 = [[1,2,3,4],[5,6,7,8]]\n",
    "arr2 = np.array(data2)\n",
    "arr2"
   ]
  },
  {
   "cell_type": "code",
   "execution_count": 11,
   "id": "b50c784a",
   "metadata": {},
   "outputs": [
    {
     "name": "stdout",
     "output_type": "stream",
     "text": [
      "2 \n",
      "\n",
      "(2, 4)\n"
     ]
    }
   ],
   "source": [
    "print(arr2.ndim,'\\n')\n",
    "print(arr2.shape)"
   ]
  },
  {
   "cell_type": "code",
   "execution_count": 12,
   "id": "20a8caab",
   "metadata": {},
   "outputs": [
    {
     "name": "stdout",
     "output_type": "stream",
     "text": [
      "[1 2 3] <class 'numpy.ndarray'>\n",
      "(3,)\n"
     ]
    }
   ],
   "source": [
    "# 1차원 배열로 3개의 데이터\n",
    "arr1 = np.array([1,2,3])\n",
    "print(arr1,type(arr1))\n",
    "print(arr1.shape)"
   ]
  },
  {
   "cell_type": "markdown",
   "id": "1958dc2d",
   "metadata": {},
   "source": [
    "### 배열 생성 및 초기화\n",
    "- Numpy는 원하는 shape로 배열을 설정하고 각 요소를 특정 값으로 초기화하는 zeros,ones,full,eye함수 제공\n",
    "- 파라미터로 입력한 배열과 같은 shape의 배열을 만드는 zeros_like, ones_like, full_like 함수도 제공"
   ]
  },
  {
   "cell_type": "code",
   "execution_count": 14,
   "id": "24396522",
   "metadata": {},
   "outputs": [
    {
     "name": "stdout",
     "output_type": "stream",
     "text": [
      "[0. 0. 0. 0. 0. 0. 0. 0. 0. 0.] \n",
      "\n",
      "[[0. 0. 0. 0. 0. 0.]\n",
      " [0. 0. 0. 0. 0. 0.]\n",
      " [0. 0. 0. 0. 0. 0.]] \n",
      "\n",
      "[[[0. 0.]\n",
      "  [0. 0.]\n",
      "  [0. 0.]]\n",
      "\n",
      " [[0. 0.]\n",
      "  [0. 0.]\n",
      "  [0. 0.]]]\n"
     ]
    }
   ],
   "source": [
    "print(np.zeros(10),'\\n')\n",
    "print(np.zeros((3,6)),'\\n')\n",
    "print(np.zeros((2,3,2)))"
   ]
  },
  {
   "cell_type": "code",
   "execution_count": 15,
   "id": "4046946d",
   "metadata": {},
   "outputs": [
    {
     "data": {
      "text/plain": [
       "array([[[1., 1., 1., 1.],\n",
       "        [1., 1., 1., 1.],\n",
       "        [1., 1., 1., 1.]],\n",
       "\n",
       "       [[1., 1., 1., 1.],\n",
       "        [1., 1., 1., 1.],\n",
       "        [1., 1., 1., 1.]]])"
      ]
     },
     "execution_count": 15,
     "metadata": {},
     "output_type": "execute_result"
    }
   ],
   "source": [
    "np.ones((2,3,4))"
   ]
  },
  {
   "cell_type": "code",
   "execution_count": 20,
   "id": "f44c0404",
   "metadata": {},
   "outputs": [
    {
     "name": "stdout",
     "output_type": "stream",
     "text": [
      "[[0 0 0 0 0]\n",
      " [0 0 0 0 0]] \n",
      "\n",
      "[[1 1 1 1 1]\n",
      " [1 1 1 1 1]] \n",
      "\n",
      "[[5 5 5 5 5]\n",
      " [5 5 5 5 5]]\n"
     ]
    }
   ],
   "source": [
    "a = np.arange(10).reshape(2,5)\n",
    "z = np.zeros_like(a)\n",
    "o = np.ones_like(a)\n",
    "f = np.full_like(a,5)\n",
    "\n",
    "print(z,'\\n')\n",
    "print(o,'\\n')\n",
    "print(f)"
   ]
  },
  {
   "cell_type": "code",
   "execution_count": 22,
   "id": "48c126a9",
   "metadata": {},
   "outputs": [
    {
     "name": "stdout",
     "output_type": "stream",
     "text": [
      "[ 0  1  2  3  4  5  6  7  8  9 10 11 12 13 14 15 16 17 18 19 20 21 22 23\n",
      " 24 25 26 27 28 29] \n",
      "\n",
      "[[ 0  1  2  3  4  5]\n",
      " [ 6  7  8  9 10 11]\n",
      " [12 13 14 15 16 17]\n",
      " [18 19 20 21 22 23]\n",
      " [24 25 26 27 28 29]] \n",
      "\n",
      "[[[ 0  1  2  3  4]\n",
      "  [ 5  6  7  8  9]\n",
      "  [10 11 12 13 14]]\n",
      "\n",
      " [[15 16 17 18 19]\n",
      "  [20 21 22 23 24]\n",
      "  [25 26 27 28 29]]]\n"
     ]
    }
   ],
   "source": [
    "ar = np.arange(30)\n",
    "ar1 = ar\n",
    "ar2 = ar.reshape(5,6)\n",
    "ar3 = ar.reshape(2,3,5)\n",
    "\n",
    "print(ar1,'\\n')\n",
    "print(ar2, '\\n')\n",
    "print(ar3)"
   ]
  },
  {
   "cell_type": "code",
   "execution_count": 25,
   "id": "2f5fffed",
   "metadata": {},
   "outputs": [
    {
     "name": "stdout",
     "output_type": "stream",
     "text": [
      "[ 0  1  2  3  4  5  6  7  8  9 10 11 12 13 14 15 16 17 18 19 20 21 22 23\n",
      " 24 25 26 27 28 29] \n",
      "\n",
      "[[ 0  1  2  3  4  5  6  7  8  9 10 11 12 13 14 15 16 17 18 19 20 21 22 23\n",
      "  24 25 26 27 28 29]] \n",
      "\n",
      "[[[ 0  1  2  3  4  5  6  7  8  9]\n",
      "  [10 11 12 13 14 15 16 17 18 19]\n",
      "  [20 21 22 23 24 25 26 27 28 29]]]\n"
     ]
    }
   ],
   "source": [
    "# reshape(-1,-1) 이용, 차원 변경\n",
    "print(ar1,'\\n')\n",
    "ar2 = ar1.reshape(-1,30)\n",
    "print(ar2,'\\n')\n",
    "ar3 = ar2.reshape(-1,3,10)\n",
    "print(ar3)"
   ]
  },
  {
   "cell_type": "markdown",
   "id": "6f4eeb1b",
   "metadata": {},
   "source": [
    "### 과제(7/5)\n",
    "- 2차원을 1, 3차원으로 변경하여 출력하세요.\n",
    "- 3차원을 1, 2차원으로 변경하여 출력하세요."
   ]
  },
  {
   "cell_type": "markdown",
   "id": "a5ffc21e",
   "metadata": {},
   "source": [
    "### 행렬의 종류\n",
    "\n",
    "https://math-development-geometry.tistory.com/52\n",
    "\n",
    "- 정방행렬은 행과 열의 수가 같은 행렬\n",
    "- 대각행렬은 주대각선 원소를 제외한 모든 원소들이 0인 정방행렬\n",
    "- 삼각행렬은 주대각선 원소를 기준으로 위 또는 아래에 있는 성분이 모두 0인 정방행렬\n",
    "- 항등행렬은 행렬 곱셈 연산에 항등원으로 작용하는 행렬\n",
    "- 영행렬은 모든 원소가 0인 행렬로 곱셈 연산에서 영원으로 작용하는 행렬\n",
    "- 전치행렬은 주대각선 원소를 기준으로 행과 열을 바꿔주는 행렬\n",
    "- 직교행렬은 행렬 A의 역행렬이 A의 전치행렬이고 A의 전치행렬과 A 행렬을 곱하였을때 항등행렬이 나오는 행렬\n"
   ]
  },
  {
   "cell_type": "code",
   "execution_count": 27,
   "id": "efb193ed",
   "metadata": {},
   "outputs": [
    {
     "data": {
      "text/plain": [
       "array([[7, 7],\n",
       "       [7, 7]])"
      ]
     },
     "execution_count": 27,
     "metadata": {},
     "output_type": "execute_result"
    }
   ],
   "source": [
    "# 정방행렬\n",
    "a = np.full((2,2), 7)\n",
    "a"
   ]
  },
  {
   "cell_type": "code",
   "execution_count": 28,
   "id": "6da81733",
   "metadata": {},
   "outputs": [
    {
     "data": {
      "text/plain": [
       "array([[1., 0., 0.],\n",
       "       [0., 1., 0.],\n",
       "       [0., 0., 1.]])"
      ]
     },
     "execution_count": 28,
     "metadata": {},
     "output_type": "execute_result"
    }
   ],
   "source": [
    "# 항등행렬, 단위행렬\n",
    "arr = np.eye(3)\n",
    "arr"
   ]
  },
  {
   "cell_type": "code",
   "execution_count": 29,
   "id": "e2e04cce",
   "metadata": {},
   "outputs": [
    {
     "data": {
      "text/plain": [
       "array([ 0.        ,  0.20408163,  0.40816327,  0.6122449 ,  0.81632653,\n",
       "        1.02040816,  1.2244898 ,  1.42857143,  1.63265306,  1.83673469,\n",
       "        2.04081633,  2.24489796,  2.44897959,  2.65306122,  2.85714286,\n",
       "        3.06122449,  3.26530612,  3.46938776,  3.67346939,  3.87755102,\n",
       "        4.08163265,  4.28571429,  4.48979592,  4.69387755,  4.89795918,\n",
       "        5.10204082,  5.30612245,  5.51020408,  5.71428571,  5.91836735,\n",
       "        6.12244898,  6.32653061,  6.53061224,  6.73469388,  6.93877551,\n",
       "        7.14285714,  7.34693878,  7.55102041,  7.75510204,  7.95918367,\n",
       "        8.16326531,  8.36734694,  8.57142857,  8.7755102 ,  8.97959184,\n",
       "        9.18367347,  9.3877551 ,  9.59183673,  9.79591837, 10.        ])"
      ]
     },
     "execution_count": 29,
     "metadata": {},
     "output_type": "execute_result"
    }
   ],
   "source": [
    "# 0~10을 균등하게 50개로 나누어줌\n",
    "np.linspace(0,10)"
   ]
  },
  {
   "cell_type": "code",
   "execution_count": 31,
   "id": "61b9c5d5",
   "metadata": {},
   "outputs": [
    {
     "data": {
      "text/plain": [
       "(array([0.  , 0.25, 0.5 , 0.75, 1.  ]), 0.25)"
      ]
     },
     "execution_count": 31,
     "metadata": {},
     "output_type": "execute_result"
    }
   ],
   "source": [
    "np.linspace(0,1,5,retstep=True)"
   ]
  },
  {
   "cell_type": "code",
   "execution_count": 32,
   "id": "6b7f38ba",
   "metadata": {},
   "outputs": [
    {
     "data": {
      "text/plain": [
       "[<matplotlib.lines.Line2D at 0x2c5c3d34730>]"
      ]
     },
     "execution_count": 32,
     "metadata": {},
     "output_type": "execute_result"
    },
    {
     "data": {
      "image/png": "[encoded data removed]",
      "text/plain": [
       "<Figure size 432x288 with 1 Axes>"
      ]
     },
     "metadata": {
      "needs_background": "light"
     },
     "output_type": "display_data"
    }
   ],
   "source": [
    "import matplotlib.pyplot as plt\n",
    "x = np.linspace(0,1)\n",
    "y = np.linspace(0,50)\n",
    "plt.plot(x,y,'o')"
   ]
  },
  {
   "cell_type": "code",
   "execution_count": 33,
   "id": "c10c2a0d",
   "metadata": {},
   "outputs": [
    {
     "data": {
      "text/plain": [
       "[<matplotlib.lines.Line2D at 0x2c5c44b6dc0>]"
      ]
     },
     "execution_count": 33,
     "metadata": {},
     "output_type": "execute_result"
    },
    {
     "data": {
      "image/png": "[encoded data removed]",
      "text/plain": [
       "<Figure size 432x288 with 1 Axes>"
      ]
     },
     "metadata": {
      "needs_background": "light"
     },
     "output_type": "display_data"
    }
   ],
   "source": [
    "x = np.linspace(0,20,20)\n",
    "y = np.linspace(0.1,1,20)\n",
    "plt.plot(x,y,'o')"
   ]
  },
  {
   "cell_type": "code",
   "execution_count": 34,
   "id": "47c56467",
   "metadata": {},
   "outputs": [
    {
     "name": "stdout",
     "output_type": "stream",
     "text": [
      "0.0999999993810619\n",
      "1.0\n"
     ]
    },
    {
     "data": {
      "text/plain": [
       "array([ 1.25892541,  1.40400425,  1.565802  ,  1.74624535,  1.94748304,\n",
       "        2.1719114 ,  2.42220294,  2.70133812,  3.0126409 ,  3.35981829,\n",
       "        3.74700446,  4.17881006,  4.66037703,  5.19743987,  5.79639395,\n",
       "        6.46437163,  7.2093272 ,  8.04013161,  8.9666781 , 10.        ])"
      ]
     },
     "execution_count": 34,
     "metadata": {},
     "output_type": "execute_result"
    }
   ],
   "source": [
    "print(np.log10(1.25892541))\n",
    "print(np.log10(10))\n",
    "np.logspace(0.1,1,20)"
   ]
  },
  {
   "cell_type": "code",
   "execution_count": 35,
   "id": "962d4455",
   "metadata": {},
   "outputs": [
    {
     "data": {
      "text/plain": [
       "[<matplotlib.lines.Line2D at 0x2c5c4532640>]"
      ]
     },
     "execution_count": 35,
     "metadata": {},
     "output_type": "execute_result"
    },
    {
     "data": {
      "image/png": "[encoded data removed]",
      "text/plain": [
       "<Figure size 432x288 with 1 Axes>"
      ]
     },
     "metadata": {
      "needs_background": "light"
     },
     "output_type": "display_data"
    }
   ],
   "source": [
    "x = np.linspace(0,20,20)\n",
    "y = np.logspace(0.1,1,20)\n",
    "plt.plot(x,y,'o')"
   ]
  },
  {
   "cell_type": "markdown",
   "id": "5bcf20f9",
   "metadata": {},
   "source": [
    "ndarray 데이터 형태 지정 및 변경\n",
    "<img src = '데이터형태.jpg' STYLE = 'width:500px;'>"
   ]
  },
  {
   "cell_type": "code",
   "execution_count": 38,
   "id": "9b9a93ff",
   "metadata": {},
   "outputs": [
    {
     "name": "stdout",
     "output_type": "stream",
     "text": [
      "int32\n"
     ]
    },
    {
     "data": {
      "text/plain": [
       "dtype('float64')"
      ]
     },
     "execution_count": 38,
     "metadata": {},
     "output_type": "execute_result"
    }
   ],
   "source": [
    "arr = np.array([1,2,3,4,5],)\n",
    "print(arr.dtype)\n",
    "float_arr = arr.astype(np.float64)\n",
    "float_arr.dtype"
   ]
  },
  {
   "cell_type": "code",
   "execution_count": 41,
   "id": "54071077",
   "metadata": {},
   "outputs": [
    {
     "name": "stdout",
     "output_type": "stream",
     "text": [
      "[b'1' b'2' b'3' b'4' b'5'] |S1\n"
     ]
    }
   ],
   "source": [
    "numeric_string = np.array([1,2,3,4,5],dtype='S') # S : 바이트 문자열\n",
    "print(numeric_string,numeric_string.dtype)"
   ]
  },
  {
   "cell_type": "code",
   "execution_count": 44,
   "id": "b38a62eb",
   "metadata": {},
   "outputs": [
    {
     "name": "stdout",
     "output_type": "stream",
     "text": [
      "[1. 2. 3. 4. 5.] float64\n"
     ]
    }
   ],
   "source": [
    "num = numeric_string.astype(float)\n",
    "print(num, num.dtype)"
   ]
  },
  {
   "cell_type": "markdown",
   "id": "d1bbe078",
   "metadata": {},
   "source": [
    "### 과제(7/5)\n",
    "- 두개의 배열을 생성하여 4칙 연산을 수행하세요."
   ]
  },
  {
   "cell_type": "markdown",
   "id": "a13daece",
   "metadata": {},
   "source": [
    "### 뷰(view) : \n",
    "넘파이의 ndarray(이하 배열)을 슬라이싱할 때 파이썬의 리스트(list)와 다르게 원본의 참조가 생성\n",
    "\n",
    "numpy는 대용량 데이터 처리를 염두에 두고 대용량 데이터의 슬라이싱이 빈번하게 일어나는 복잡한 코드를 실행시키는데 있어서 복사가 남발되면 메모리 문제를 일으킬 소지가 많기 때문에 이렇게 설계\n",
    "\n",
    "- 복사가 아니고 뷰(참조의 개념)이기 때문에 원본이 바뀌면 이 참조본도 따라서 바뀜\n",
    "- 리스트의 슬라이싱에서는 복사본이 생성되는 것과는 다른 동작이기 때문에 주의\n",
    "- 슬라이싱의 복사본을 생성하고 싶다면 copy() 속성을 이용\n",
    "\n",
    "http://taewan.kim/post/numpy_cheat_sheet/\n"
   ]
  },
  {
   "cell_type": "code",
   "execution_count": 45,
   "id": "69ed0f05",
   "metadata": {},
   "outputs": [
    {
     "name": "stdout",
     "output_type": "stream",
     "text": [
      "[1, 2, 3, 4, 5, 6, 7, 8, 9, 10] \n",
      "\n",
      "[1, 2, 3, 4, 5] \n",
      "\n",
      "[1, 0, 3, 4, 5] \n",
      "\n",
      "[1, 2, 3, 4, 5, 6, 7, 8, 9, 10]\n"
     ]
    }
   ],
   "source": [
    "li = list(np.arange(1,11))\n",
    "print(li,'\\n')\n",
    "li_slice = li[:5].copy()\n",
    "print(li_slice,'\\n')\n",
    "li_slice[1] = 0\n",
    "print(li_slice,'\\n')\n",
    "print(li)"
   ]
  },
  {
   "cell_type": "code",
   "execution_count": 47,
   "id": "42291ebc",
   "metadata": {},
   "outputs": [
    {
     "name": "stdout",
     "output_type": "stream",
     "text": [
      "[0 1 2 3 4 5 6 7 8 9] \n",
      "\n",
      "[5 6 7] \n",
      "\n",
      "[12 12 12] \n",
      "\n",
      "[ 0  1  2  3  4 12 12 12  8  9]\n"
     ]
    }
   ],
   "source": [
    "# 뷰는 원본을 변경\n",
    "arr = np.arange(10)\n",
    "print(arr,'\\n')\n",
    "li_slice = arr[5:8]\n",
    "print(li_slice,'\\n')\n",
    "li_slice[:] = 12\n",
    "print(li_slice,'\\n')\n",
    "print(arr)"
   ]
  },
  {
   "cell_type": "markdown",
   "id": "91661ac6",
   "metadata": {},
   "source": [
    "## 과제(7/5)\n",
    "- array2d에서 아래와 같이 출력하세요."
   ]
  },
  {
   "cell_type": "code",
   "execution_count": 48,
   "id": "686e3cad",
   "metadata": {},
   "outputs": [
    {
     "data": {
      "text/plain": [
       "array([[1, 2, 3],\n",
       "       [4, 5, 6],\n",
       "       [7, 8, 9]])"
      ]
     },
     "execution_count": 48,
     "metadata": {},
     "output_type": "execute_result"
    }
   ],
   "source": [
    "arr2d = np.arange(1,10).reshape(3,3)\n",
    "arr2d"
   ]
  },
  {
   "cell_type": "code",
   "execution_count": null,
   "id": "3d8a70c0",
   "metadata": {},
   "outputs": [],
   "source": [
    "# 출력\n",
    "\n",
    "[[1 2]\n",
    "[4 5]]\n",
    "\n",
    "(2가지 방법)\n",
    "[[4 5 6]\n",
    "[7 8 9]]\n",
    "\n",
    "[[1 2 3]\n",
    "[4 5 6]\n",
    "[7 8 9]]\n",
    "\n",
    "[[2 3]\n",
    "[5 6]]\n",
    "\n",
    "[1 4]\n"
   ]
  },
  {
   "cell_type": "code",
   "execution_count": 50,
   "id": "7ace468d",
   "metadata": {},
   "outputs": [
    {
     "name": "stdout",
     "output_type": "stream",
     "text": [
      "[[1, 2, 3], [4, 5, 6], [7, 8, 9]] <class 'list'>\n"
     ]
    }
   ],
   "source": [
    "# 배열을 리스트로 변환\n",
    "print(arr2d.tolist(),type(arr2d.tolist()))"
   ]
  },
  {
   "cell_type": "code",
   "execution_count": 54,
   "id": "4da0079c",
   "metadata": {},
   "outputs": [
    {
     "name": "stdout",
     "output_type": "stream",
     "text": [
      "[1 2 3 4 5 6 7 8 9] \n",
      "\n",
      "[6 7 8 9] \n",
      "\n",
      "[False False False False False  True  True  True  True]\n"
     ]
    }
   ],
   "source": [
    "# boolean indexing\n",
    "arr1d = np.arange(1,10)\n",
    "print(arr1d,'\\n')\n",
    "arr1 = arr1d[arr1d > 5]\n",
    "print(arr1,'\\n')\n",
    "print(arr1d > 5)"
   ]
  },
  {
   "cell_type": "code",
   "execution_count": 55,
   "id": "60ec0d0e",
   "metadata": {},
   "outputs": [
    {
     "data": {
      "text/plain": [
       "array([6, 7, 8, 9])"
      ]
     },
     "execution_count": 55,
     "metadata": {},
     "output_type": "execute_result"
    }
   ],
   "source": [
    "arr1d[5:]"
   ]
  },
  {
   "cell_type": "code",
   "execution_count": 57,
   "id": "0aa5a743",
   "metadata": {},
   "outputs": [
    {
     "name": "stdout",
     "output_type": "stream",
     "text": [
      "[ 3  6  9 12 15 18 21 24 27 30 33 36 39 42 45 48 51 54 57 60 63 66 69 72\n",
      " 75 78 81 84 87 90 93 96 99] \n",
      "\n",
      "[ 3  6  9 12 15 18 21 24 27 30 33 36 39 42 45 48 51 54 57 60 63 66 69 72\n",
      " 75 78 81 84 87 90 93 96 99]\n"
     ]
    }
   ],
   "source": [
    "# Q. 1 ~ 100까지 정수에서 3의 배수인 것만을 출력(for문과 배열 두가지 방식)\n",
    "\n",
    "arr = np.arange(1,100)\n",
    "\n",
    "# 배열\n",
    "arr = arr[arr % 3 ==0]\n",
    "print(arr,'\\n')\n",
    "\n",
    "#for 문\n",
    "for i in arr:\n",
    "    if i % 3 == 0:\n",
    "        pass\n",
    "    else :\n",
    "        arr.drop(i, inplace= True)\n",
    "print(arr)"
   ]
  },
  {
   "cell_type": "markdown",
   "id": "78278338",
   "metadata": {},
   "source": [
    "### 과제(7/5)\n",
    "- 1 ~ 100까지 정수에서 5의 배수이면서 2의 배수인 것만을 출력(for문과 배열 두가지 방식)\n",
    "- 표준정규분포로 구성된 5행5열 다차원 배열을 생성하고 함수를 이용하여 평균과 표준편차를 구하세요.\n",
    "- 인덱싱을 이용하여 np.arange(10)을 내림차순으로 정렬하세요.\n",
    "- [1,2,0,0,4,0]에서 zero가 아닌 인덱스를 배열 형태로 출력하세요.\n",
    "- np.arange(15).reshape(3,5) 배열을 전치하여 출력하세요."
   ]
  },
  {
   "cell_type": "code",
   "execution_count": 58,
   "id": "60d3004f",
   "metadata": {},
   "outputs": [
    {
     "data": {
      "text/plain": [
       "array([[1, 4, 2, 8, 5],\n",
       "       [6, 1, 8, 7, 8],\n",
       "       [5, 9, 7, 4, 4],\n",
       "       [1, 1, 9, 1, 7],\n",
       "       [4, 7, 5, 5, 7]])"
      ]
     },
     "execution_count": 58,
     "metadata": {},
     "output_type": "execute_result"
    }
   ],
   "source": [
    "arr = np.random.randint(1,10,size=(5,5))\n",
    "arr"
   ]
  },
  {
   "cell_type": "code",
   "execution_count": 59,
   "id": "fb2bcf9b",
   "metadata": {},
   "outputs": [
    {
     "data": {
      "text/plain": [
       "array([[1, 6, 5, 1, 4],\n",
       "       [4, 1, 9, 1, 7],\n",
       "       [2, 8, 7, 9, 5],\n",
       "       [8, 7, 4, 1, 5],\n",
       "       [5, 8, 4, 7, 7]])"
      ]
     },
     "execution_count": 59,
     "metadata": {},
     "output_type": "execute_result"
    }
   ],
   "source": [
    "# arr.T\n",
    "np.transpose(arr)"
   ]
  },
  {
   "cell_type": "code",
   "execution_count": 60,
   "id": "eae64cb3",
   "metadata": {},
   "outputs": [
    {
     "data": {
      "text/plain": [
       "array([[110, 122, 107,  66, 117],\n",
       "       [122, 214, 155, 142, 162],\n",
       "       [107, 155, 187, 109, 166],\n",
       "       [ 66, 142, 109, 133, 110],\n",
       "       [117, 162, 166, 110, 164]])"
      ]
     },
     "execution_count": 60,
     "metadata": {},
     "output_type": "execute_result"
    }
   ],
   "source": [
    "np.dot(arr, arr.T)"
   ]
  },
  {
   "cell_type": "code",
   "execution_count": 61,
   "id": "9a83e342",
   "metadata": {},
   "outputs": [
    {
     "data": {
      "text/plain": [
       "array([[110, 122, 107,  66, 117],\n",
       "       [122, 214, 155, 142, 162],\n",
       "       [107, 155, 187, 109, 166],\n",
       "       [ 66, 142, 109, 133, 110],\n",
       "       [117, 162, 166, 110, 164]])"
      ]
     },
     "execution_count": 61,
     "metadata": {},
     "output_type": "execute_result"
    }
   ],
   "source": [
    "np.matmul(arr,arr.T)"
   ]
  },
  {
   "cell_type": "code",
   "execution_count": 67,
   "id": "f9706ae2",
   "metadata": {},
   "outputs": [
    {
     "name": "stdout",
     "output_type": "stream",
     "text": [
      "[[1 2 1]\n",
      " [2 2 3]\n",
      " [1 3 1]] \n",
      "\n",
      "[[ 7. -1. -4.]\n",
      " [-1.  0.  1.]\n",
      " [-4.  1.  2.]]\n"
     ]
    }
   ],
   "source": [
    "# 역행렬 : 어떤 행렬 A와 곱했을 때 곱셈에 대한 항등원인 항등행렬 E가 나오는 행렬을 행렬 A의 역행렬이라 함\n",
    "np.random.seed(0)\n",
    "mt1 = np.random.randint(1,4,size=(3,3))\n",
    "print(mt1,'\\n')\n",
    "mt2 = np.linalg.inv(mt1)\n",
    "print(mt2)"
   ]
  },
  {
   "cell_type": "code",
   "execution_count": 68,
   "id": "2473d350",
   "metadata": {},
   "outputs": [
    {
     "data": {
      "text/plain": [
       "array([[1., 0., 0.],\n",
       "       [0., 1., 0.],\n",
       "       [0., 0., 1.]])"
      ]
     },
     "execution_count": 68,
     "metadata": {},
     "output_type": "execute_result"
    }
   ],
   "source": [
    "# 항등행렬\n",
    "np.dot(mt1,mt2)"
   ]
  },
  {
   "cell_type": "code",
   "execution_count": 66,
   "id": "f6974a18",
   "metadata": {},
   "outputs": [
    {
     "name": "stdout",
     "output_type": "stream",
     "text": [
      "[[0 1 2]\n",
      " [3 4 5]] (2, 3) \n",
      "\n",
      "[[0 3]\n",
      " [1 4]\n",
      " [2 5]] (3, 2) \n",
      "\n",
      "[[0 3]\n",
      " [1 4]\n",
      " [2 5]] (3, 2) \n",
      "\n",
      "[[0 3]\n",
      " [1 4]\n",
      " [2 5]] (3, 2)\n"
     ]
    }
   ],
   "source": [
    "a = np.arange(6).reshape(2,3)\n",
    "print(a,a.shape,'\\n')\n",
    "y = np.swapaxes(a,0,1)\n",
    "print(y,y.shape,'\\n')\n",
    "y = np.transpose(a)\n",
    "print(y,y.shape, '\\n')\n",
    "y = a.T\n",
    "print(y,y.shape)"
   ]
  },
  {
   "cell_type": "code",
   "execution_count": 69,
   "id": "55cc67f6",
   "metadata": {},
   "outputs": [
    {
     "data": {
      "text/plain": [
       "array([[[0, 1, 2],\n",
       "        [3, 4, 5]]])"
      ]
     },
     "execution_count": 69,
     "metadata": {},
     "output_type": "execute_result"
    }
   ],
   "source": [
    "# (0,1,2)\n",
    "a = np.arange(6).reshape(1,2,3)\n",
    "a"
   ]
  },
  {
   "cell_type": "code",
   "execution_count": 71,
   "id": "63670dad",
   "metadata": {},
   "outputs": [
    {
     "name": "stdout",
     "output_type": "stream",
     "text": [
      "[[[0 1 2]]\n",
      "\n",
      " [[3 4 5]]] (2, 1, 3) \n",
      "\n",
      "[[[0 1 2]]\n",
      "\n",
      " [[3 4 5]]] (2, 1, 3)\n"
     ]
    }
   ],
   "source": [
    "# 3차원과 2차원을 바꾸라는 의미(1,2,3) -> (2,1,3)\n",
    "y = np.transpose(a,(1,0,2))\n",
    "print(y,y.shape,'\\n')\n",
    "y = np.swapaxes(a,0,1)\n",
    "print(y,y.shape)"
   ]
  },
  {
   "cell_type": "markdown",
   "id": "63057da9",
   "metadata": {},
   "source": [
    "### 과제(7/5)\n",
    "- (1,2,3) -> (2,3,1)으로 차원을 변경하세요.(transpose, swapaxes)"
   ]
  },
  {
   "cell_type": "code",
   "execution_count": 74,
   "id": "93ee214b",
   "metadata": {},
   "outputs": [
    {
     "name": "stdout",
     "output_type": "stream",
     "text": [
      "[[[0 1 2]\n",
      "  [3 4 5]]] (1, 2, 3) \n",
      "\n"
     ]
    }
   ],
   "source": [
    "a = np.arange(6).reshape(1,2,3)\n",
    "print(a,a.shape,'\\n')"
   ]
  },
  {
   "cell_type": "markdown",
   "id": "be7a76f1",
   "metadata": {},
   "source": [
    "#### numpy 제공 함수"
   ]
  },
  {
   "cell_type": "code",
   "execution_count": 76,
   "id": "0683405a",
   "metadata": {},
   "outputs": [
    {
     "name": "stdout",
     "output_type": "stream",
     "text": [
      "[[1 2 3]\n",
      " [4 5 6]\n",
      " [7 8 9]] \n",
      "\n",
      "[ 1  3  6 10 15 21 28 36 45] \n",
      "\n"
     ]
    }
   ],
   "source": [
    "arr = np.arange(1,10).reshape(3,3)\n",
    "print(arr,'\\n')\n",
    "print(arr.cumsum(),'\\n')"
   ]
  },
  {
   "cell_type": "code",
   "execution_count": 77,
   "id": "d343e5eb",
   "metadata": {},
   "outputs": [
    {
     "name": "stdout",
     "output_type": "stream",
     "text": [
      "[[ 1  2  3]\n",
      " [ 5  7  9]\n",
      " [12 15 18]]\n"
     ]
    }
   ],
   "source": [
    "print(arr.cumsum(axis=0))"
   ]
  },
  {
   "cell_type": "code",
   "execution_count": 78,
   "id": "571e0848",
   "metadata": {},
   "outputs": [
    {
     "name": "stdout",
     "output_type": "stream",
     "text": [
      "[  6 120 504]\n"
     ]
    }
   ],
   "source": [
    "print(arr.prod(axis=1))"
   ]
  },
  {
   "cell_type": "code",
   "execution_count": 80,
   "id": "87416a4a",
   "metadata": {},
   "outputs": [
    {
     "name": "stdout",
     "output_type": "stream",
     "text": [
      "[[  1   2   6]\n",
      " [  4  20 120]\n",
      " [  7  56 504]]\n"
     ]
    }
   ],
   "source": [
    "print(arr.cumprod(axis=1))"
   ]
  },
  {
   "cell_type": "code",
   "execution_count": 81,
   "id": "855c624c",
   "metadata": {},
   "outputs": [
    {
     "name": "stdout",
     "output_type": "stream",
     "text": [
      "[1 2 0] \n",
      "\n",
      "[1 2 0]\n"
     ]
    }
   ],
   "source": [
    "# 나머지\n",
    "v1 = np.array([15,30,45])\n",
    "v2 = np.array([2,7,9])\n",
    "print(np.mod(v1,v2),'\\n')\n",
    "print(np.remainder(v1,v2))\n"
   ]
  },
  {
   "cell_type": "code",
   "execution_count": 82,
   "id": "2a29039a",
   "metadata": {},
   "outputs": [
    {
     "name": "stdout",
     "output_type": "stream",
     "text": [
      "[1.17647059 0.54054054 1.         0.01      ]\n"
     ]
    }
   ],
   "source": [
    "# 역수\n",
    "value = np.array([0.85,1.85,1,100])\n",
    "print(np.reciprocal(value))"
   ]
  },
  {
   "cell_type": "code",
   "execution_count": 84,
   "id": "a61f5e21",
   "metadata": {},
   "outputs": [
    {
     "name": "stdout",
     "output_type": "stream",
     "text": [
      "[  4 100 225] \n",
      "\n",
      "[   2  100 3375]\n"
     ]
    }
   ],
   "source": [
    "# 승수\n",
    "v1 = np.array([2,10,15])\n",
    "v2 = np.array([1,2,3])\n",
    "print(np.power(v1,2),'\\n')\n",
    "print(np.power(v1,v2))"
   ]
  },
  {
   "cell_type": "code",
   "execution_count": 85,
   "id": "e8f08eb5",
   "metadata": {},
   "outputs": [
    {
     "data": {
      "text/plain": [
       "array([-0.10321885,  0.4105985 ,  0.14404357,  1.45427351,  0.76103773,\n",
       "        0.12167502,  0.44386323,  0.33367433,  1.49407907, -0.20515826])"
      ]
     },
     "execution_count": 85,
     "metadata": {},
     "output_type": "execute_result"
    }
   ],
   "source": [
    "arr = np.random.randn(10)\n",
    "arr"
   ]
  },
  {
   "cell_type": "code",
   "execution_count": 86,
   "id": "5e8cf20d",
   "metadata": {},
   "outputs": [
    {
     "data": {
      "text/plain": [
       "8"
      ]
     },
     "execution_count": 86,
     "metadata": {},
     "output_type": "execute_result"
    }
   ],
   "source": [
    "# 양수인 원소의 개수\n",
    "(arr > 0).sum()"
   ]
  },
  {
   "cell_type": "code",
   "execution_count": 87,
   "id": "4bc1b0ee",
   "metadata": {},
   "outputs": [
    {
     "data": {
      "text/plain": [
       "True"
      ]
     },
     "execution_count": 87,
     "metadata": {},
     "output_type": "execute_result"
    }
   ],
   "source": [
    "# any 메서드\n",
    "bools = np.array([False, False, True, True])\n",
    "bools.any()"
   ]
  },
  {
   "cell_type": "code",
   "execution_count": 88,
   "id": "4a05273e",
   "metadata": {},
   "outputs": [
    {
     "data": {
      "text/plain": [
       "False"
      ]
     },
     "execution_count": 88,
     "metadata": {},
     "output_type": "execute_result"
    }
   ],
   "source": [
    "bools.all()"
   ]
  },
  {
   "cell_type": "code",
   "execution_count": 90,
   "id": "8a10094c",
   "metadata": {},
   "outputs": [
    {
     "name": "stdout",
     "output_type": "stream",
     "text": [
      "[[-0.34791215  0.15634897  1.23029068  1.20237985]\n",
      " [-0.38732682 -0.30230275 -1.04855297 -1.42001794]\n",
      " [-1.70627019  1.9507754  -0.50965218 -0.4380743 ]\n",
      " [-1.25279536  0.77749036 -1.61389785 -0.21274028]] \n",
      "\n"
     ]
    },
    {
     "data": {
      "text/plain": [
       "array([[-2,  2,  2,  2],\n",
       "       [-2, -2, -2, -2],\n",
       "       [-2,  2, -2, -2],\n",
       "       [-2,  2, -2, -2]])"
      ]
     },
     "execution_count": 90,
     "metadata": {},
     "output_type": "execute_result"
    }
   ],
   "source": [
    "# numpy.where 함수는 삼항식의 벡터화 버전\n",
    "arr = np.random.randn(4,4)\n",
    "print(arr,'\\n')\n",
    "np.where(arr > 0, 2, -2)"
   ]
  },
  {
   "cell_type": "code",
   "execution_count": 92,
   "id": "84ef2d58",
   "metadata": {},
   "outputs": [
    {
     "data": {
      "text/plain": [
       "array([[-0.34791215,  2.        ,  2.        ,  2.        ],\n",
       "       [-0.38732682, -0.30230275, -1.04855297, -1.42001794],\n",
       "       [-1.70627019,  2.        , -0.50965218, -0.4380743 ],\n",
       "       [-1.25279536,  2.        , -1.61389785, -0.21274028]])"
      ]
     },
     "execution_count": 92,
     "metadata": {},
     "output_type": "execute_result"
    }
   ],
   "source": [
    "# Q. arr의 모든 양수를 2로 변경하세요.\n",
    "arr = np.where(arr > 0, 2, arr)\n",
    "arr"
   ]
  },
  {
   "cell_type": "code",
   "execution_count": 93,
   "id": "5f654183",
   "metadata": {},
   "outputs": [
    {
     "name": "stdout",
     "output_type": "stream",
     "text": [
      "[[1 2 3]\n",
      " [1 2 3]\n",
      " [1 2 3]]\n",
      "[[1 1 1]\n",
      " [2 2 2]\n",
      " [3 3 3]]\n"
     ]
    }
   ],
   "source": [
    "# meshgrid 함수 : 두개의 1차원 배열을 받아서 가능한 모든 (x,y) 짝을 만들 수 있는 2차원 배열 반환\n",
    "x = np.arange(1,4)\n",
    "y = np.arange(1,4)\n",
    "xs,ys = np.meshgrid(x,y)\n",
    "print(xs)\n",
    "print(ys)"
   ]
  },
  {
   "cell_type": "code",
   "execution_count": 95,
   "id": "2b1ac5d1",
   "metadata": {},
   "outputs": [
    {
     "name": "stdout",
     "output_type": "stream",
     "text": [
      "[96 70 95  1 51 37 35 49 94  4] \n",
      "\n",
      "[ 1  4 35 37 49 51 70 94 95 96] \n",
      "\n",
      "[96 70 95  1 51 37 35 49 94  4]\n"
     ]
    }
   ],
   "source": [
    "# np.sort() : 복사본을 반환\n",
    "arr = np.random.randint(1,100,size=10)\n",
    "print(arr,'\\n')\n",
    "print(np.sort(arr),'\\n')\n",
    "print(arr)"
   ]
  },
  {
   "cell_type": "code",
   "execution_count": 96,
   "id": "7711919b",
   "metadata": {},
   "outputs": [
    {
     "data": {
      "text/plain": [
       "array([ 1,  4, 35, 37, 49, 51, 70, 94, 95, 96])"
      ]
     },
     "execution_count": 96,
     "metadata": {},
     "output_type": "execute_result"
    }
   ],
   "source": [
    "sorted = np.sort(arr)\n",
    "sorted"
   ]
  },
  {
   "cell_type": "code",
   "execution_count": 97,
   "id": "8895dbf9",
   "metadata": {},
   "outputs": [
    {
     "name": "stdout",
     "output_type": "stream",
     "text": [
      "[[ 7  1]\n",
      " [ 8 12]] \n",
      "\n",
      "[[ 8 12]\n",
      " [ 1  7]]\n"
     ]
    }
   ],
   "source": [
    "arr2d = np.array([[8,12],\n",
    "                [7,1]])\n",
    "sort_arr2d_s0 = np.sort(arr2d, axis=0)\n",
    "print(sort_arr2d_s0,'\\n')\n",
    "sort_arr2d_s1 = np.sort(arr2d, axis=1)\n",
    "print(sort_arr2d_s1)"
   ]
  },
  {
   "cell_type": "code",
   "execution_count": 99,
   "id": "1fe055fa",
   "metadata": {},
   "outputs": [
    {
     "name": "stdout",
     "output_type": "stream",
     "text": [
      "[-0.35362786 -0.74074747 -0.67502183 -0.13278426  0.61980106  1.79116846] \n",
      "\n"
     ]
    },
    {
     "data": {
      "text/plain": [
       "array([-0.74074747, -0.67502183, -0.35362786, -0.13278426,  0.61980106,\n",
       "        1.79116846])"
      ]
     },
     "execution_count": 99,
     "metadata": {},
     "output_type": "execute_result"
    }
   ],
   "source": [
    "# ndarray.sort() : 원본 반영\n",
    "arr = np.random.randn(6)\n",
    "print(arr,'\\n')\n",
    "arr.sort()\n",
    "arr"
   ]
  },
  {
   "cell_type": "code",
   "execution_count": 101,
   "id": "ab8de75a",
   "metadata": {},
   "outputs": [
    {
     "name": "stdout",
     "output_type": "stream",
     "text": [
      "[[ 1.52550724 -1.44553558  0.37716061]\n",
      " [-0.07055723  0.60415971  0.472149  ]\n",
      " [ 0.81991729  0.90751962 -0.58582287]\n",
      " [ 0.93755884 -0.25460809  0.97359871]\n",
      " [ 0.20728277  1.09964197  0.93989698]] \n",
      "\n"
     ]
    },
    {
     "data": {
      "text/plain": [
       "array([[-0.07055723, -1.44553558, -0.58582287],\n",
       "       [ 0.20728277, -0.25460809,  0.37716061],\n",
       "       [ 0.81991729,  0.60415971,  0.472149  ],\n",
       "       [ 0.93755884,  0.90751962,  0.93989698],\n",
       "       [ 1.52550724,  1.09964197,  0.97359871]])"
      ]
     },
     "execution_count": 101,
     "metadata": {},
     "output_type": "execute_result"
    }
   ],
   "source": [
    "# default는 열기준으로 정렬\n",
    "arr = np.random.randn(5,3)\n",
    "print(arr,'\\n')\n",
    "arr.sort(0)\n",
    "arr"
   ]
  },
  {
   "cell_type": "code",
   "execution_count": 103,
   "id": "fdebc2cc",
   "metadata": {},
   "outputs": [
    {
     "name": "stdout",
     "output_type": "stream",
     "text": [
      "[3 1 9 5] \n",
      "\n",
      "[1 0 3 2]\n"
     ]
    }
   ],
   "source": [
    "# 정렬된 행렬의 인덱스 반환 : 기존 원본 행렬의 원소에 대한 인덱스를 필요로 할 때\n",
    "org_array = np.array([3,1,9,5])\n",
    "sort_indices = np.argsort(org_array)\n",
    "print(org_array,'\\n')\n",
    "print(sort_indices)"
   ]
  },
  {
   "cell_type": "markdown",
   "id": "01b8051b",
   "metadata": {},
   "source": [
    "### 과제(7/5)\n",
    "\n",
    "np.ones((10,10))을 아래와 같이 출력하세요."
   ]
  },
  {
   "cell_type": "code",
   "execution_count": null,
   "id": "6b3869d1",
   "metadata": {},
   "outputs": [],
   "source": [
    "\n",
    "array([[1., 1., 1., 1., 1., 1., 1., 1., 1., 1.],\n",
    "       [1., 0., 0., 0., 0., 0., 0., 0., 0., 1.],\n",
    "       [1., 0., 0., 0., 0., 0., 0., 0., 0., 1.],\n",
    "       [1., 0., 0., 0., 0., 0., 0., 0., 0., 1.],\n",
    "       [1., 0., 0., 0., 0., 0., 0., 0., 0., 1.],\n",
    "       [1., 0., 0., 0., 0., 0., 0., 0., 0., 1.],\n",
    "       [1., 0., 0., 0., 0., 0., 0., 0., 0., 1.],\n",
    "       [1., 0., 0., 0., 0., 0., 0., 0., 0., 1.],\n",
    "       [1., 0., 0., 0., 0., 0., 0., 0., 0., 1.],\n",
    "       [1., 1., 1., 1., 1., 1., 1., 1., 1., 1.]])\n"
   ]
  }
 ],
 "metadata": {
  "kernelspec": {
   "display_name": "Python 3 (ipykernel)",
   "language": "python",
   "name": "python3"
  },
  "language_info": {
   "codemirror_mode": {
    "name": "ipython",
    "version": 3
   },
   "file_extension": ".py",
   "mimetype": "text/x-python",
   "name": "python",
   "nbconvert_exporter": "python",
   "pygments_lexer": "ipython3",
   "version": "3.8.13"
  }
 },
 "nbformat": 4,
 "nbformat_minor": 5
}
