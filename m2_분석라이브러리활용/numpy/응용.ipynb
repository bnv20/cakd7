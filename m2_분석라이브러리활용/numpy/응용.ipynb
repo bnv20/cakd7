{
 "cells": [
  {
   "cell_type": "markdown",
   "id": "6bed4f38",
   "metadata": {},
   "source": [
    "[numpy random 함수]\n",
    "\n",
    "- np.random.seed : seed를 통한 난수 생성\n",
    "- np.random.randint : 정수 난수 1개 생성\n",
    "- np.random.rand : 0부터 1사이의 균일분포에서 난수 매트릭스 배열 생성\n",
    "- np.random.randn : 가우시안 표준 정규분포에서 난수 매트릭스 배열 생성\n",
    "- np.random.shuffle : 기존의 데이터의 순서 바꾸기\n",
    "- np.random.choice : 기존 데이터에서 sampling\n"
   ]
  },
  {
   "cell_type": "code",
   "execution_count": 9,
   "id": "7058848a",
   "metadata": {},
   "outputs": [
    {
     "name": "stdout",
     "output_type": "stream",
     "text": [
      "0.7290545927949408 \n",
      "\n",
      "10 \n",
      "\n",
      "14.017186499160076 \n",
      "\n",
      "9 \n",
      "\n",
      "2 \n",
      "\n",
      "[5, 4, 2] \n",
      "\n",
      "[2, 4, 5, 1, 3]\n"
     ]
    }
   ],
   "source": [
    "import random\n",
    "print(random.random(),'\\n') # 0.0<= x < 1.0 사이 난수 리턴\n",
    "print(random.randint(1,10),'\\n') # 1 <= x <= 10 사이의 정수중에서 난수 값 리턴 \n",
    "print(random.uniform(10,20),'\\n') # min, max 사이 float 리턴\n",
    "print(random.randrange(10),'\\n') # 지정 범위 int 리턴\n",
    "print(random.choice([1,2,3,4,5]),'\\n') # 리스트 내부에 있는 요소를 랜덤하게 선택\n",
    "li = [1,2,3,4,5]\n",
    "print(random.sample(li, 3), '\\n') # 리스트 요소를 중복이 안되게 리턴\n",
    "random.shuffle(li) # 리스트 요소를 다시 섞어서 리턴\n",
    "print(li)"
   ]
  },
  {
   "cell_type": "code",
   "execution_count": 12,
   "id": "f3cabad7",
   "metadata": {},
   "outputs": [
    {
     "data": {
      "text/plain": [
       "0.5000294094378029"
      ]
     },
     "execution_count": 12,
     "metadata": {},
     "output_type": "execute_result"
    }
   ],
   "source": [
    "import numpy as np\n",
    "r = np.random.rand(100000000) # 0 ~ 1사이의 균일분포\n",
    "# print(r)\n",
    "r.mean()"
   ]
  },
  {
   "cell_type": "code",
   "execution_count": 13,
   "id": "a403169a",
   "metadata": {},
   "outputs": [
    {
     "name": "stdout",
     "output_type": "stream",
     "text": [
      "[-0.6993912  -0.89707774  0.36914919 ... -1.27017819  0.21105222\n",
      " -2.0952372 ] \n",
      "\n"
     ]
    },
    {
     "data": {
      "text/plain": [
       "-0.0064149225209418955"
      ]
     },
     "execution_count": 13,
     "metadata": {},
     "output_type": "execute_result"
    }
   ],
   "source": [
    "# 표준 정규분포\n",
    "r = np.random.randn(10000)\n",
    "print(r,'\\n')\n",
    "r.mean()"
   ]
  },
  {
   "cell_type": "code",
   "execution_count": 14,
   "id": "132822dc",
   "metadata": {},
   "outputs": [
    {
     "data": {
      "text/plain": [
       "array([1.71183695, 1.79333158, 1.31491745, 1.61860188, 1.41090495,\n",
       "       1.21823921, 1.17638505, 1.04098514, 1.12983252, 1.99478565])"
      ]
     },
     "execution_count": 14,
     "metadata": {},
     "output_type": "execute_result"
    }
   ],
   "source": [
    "np.random.uniform(1.0,2.0,10)"
   ]
  },
  {
   "cell_type": "code",
   "execution_count": 15,
   "id": "c0bd3dbc",
   "metadata": {},
   "outputs": [
    {
     "data": {
      "text/plain": [
       "array([[0.84588069, 0.68838881, 0.32071101],\n",
       "       [0.83298678, 0.24579698, 0.25210208]])"
      ]
     },
     "execution_count": 15,
     "metadata": {},
     "output_type": "execute_result"
    }
   ],
   "source": [
    "np.random.uniform(0,1,(2,3))"
   ]
  },
  {
   "cell_type": "code",
   "execution_count": 16,
   "id": "28abc80d",
   "metadata": {},
   "outputs": [
    {
     "data": {
      "text/plain": [
       "array([[0.9656648 , 0.96161749, 0.75639457],\n",
       "       [0.52083587, 0.78253907, 0.72574171]])"
      ]
     },
     "execution_count": 16,
     "metadata": {},
     "output_type": "execute_result"
    }
   ],
   "source": [
    "# 0 ~ 1 사이의 난수 실수값으로 행렬 생성\n",
    "# uniform 함수의 최소값, 최대값을 0,1로 지정한 것과 같음\n",
    "np.random.random_sample((2,3))"
   ]
  },
  {
   "cell_type": "code",
   "execution_count": 17,
   "id": "a59fb656",
   "metadata": {},
   "outputs": [
    {
     "data": {
      "text/plain": [
       "array([[0.13974041, 0.10880299, 0.01606359, 0.53585587, 0.31449617,\n",
       "        0.90399085, 0.34880953, 0.18431546],\n",
       "       [0.86408949, 0.1165452 , 0.2119467 , 0.29002673, 0.34150422,\n",
       "        0.3768431 , 0.82101868, 0.83148415],\n",
       "       [0.69691626, 0.34651134, 0.31026192, 0.21171038, 0.64089679,\n",
       "        0.456993  , 0.11424349, 0.35065915],\n",
       "       [0.98775606, 0.78112172, 0.48045988, 0.68850283, 0.61604792,\n",
       "        0.36938727, 0.65743489, 0.7836027 ]])"
      ]
     },
     "execution_count": 17,
     "metadata": {},
     "output_type": "execute_result"
    }
   ],
   "source": [
    "import pandas as pd\n",
    "ar = np.random.rand(4,8)\n",
    "ar"
   ]
  },
  {
   "cell_type": "code",
   "execution_count": null,
   "id": "9ebb719b",
   "metadata": {},
   "outputs": [],
   "source": [
    "# 배열을 df로 변환\n",
    "# coloumns 8개에 대한 이름# coloumns 8개에 대한 이름\n",
    "columns = ['id','gender','age','region','product','price','qty','time']\n"
   ]
  },
  {
   "cell_type": "code",
   "execution_count": 19,
   "id": "5e61ec34",
   "metadata": {},
   "outputs": [
    {
     "data": {
      "text/html": [
       "<div>\n",
       "<style scoped>\n",
       "    .dataframe tbody tr th:only-of-type {\n",
       "        vertical-align: middle;\n",
       "    }\n",
       "\n",
       "    .dataframe tbody tr th {\n",
       "        vertical-align: top;\n",
       "    }\n",
       "\n",
       "    .dataframe thead th {\n",
       "        text-align: right;\n",
       "    }\n",
       "</style>\n",
       "<table border=\"1\" class=\"dataframe\">\n",
       "  <thead>\n",
       "    <tr style=\"text-align: right;\">\n",
       "      <th></th>\n",
       "      <th>id</th>\n",
       "      <th>gender</th>\n",
       "      <th>age</th>\n",
       "      <th>region</th>\n",
       "      <th>product</th>\n",
       "      <th>price</th>\n",
       "      <th>qty</th>\n",
       "      <th>time</th>\n",
       "    </tr>\n",
       "  </thead>\n",
       "  <tbody>\n",
       "    <tr>\n",
       "      <th>0</th>\n",
       "      <td>0.139740</td>\n",
       "      <td>0.108803</td>\n",
       "      <td>0.016064</td>\n",
       "      <td>0.535856</td>\n",
       "      <td>0.314496</td>\n",
       "      <td>0.903991</td>\n",
       "      <td>0.348810</td>\n",
       "      <td>0.184315</td>\n",
       "    </tr>\n",
       "    <tr>\n",
       "      <th>1</th>\n",
       "      <td>0.864089</td>\n",
       "      <td>0.116545</td>\n",
       "      <td>0.211947</td>\n",
       "      <td>0.290027</td>\n",
       "      <td>0.341504</td>\n",
       "      <td>0.376843</td>\n",
       "      <td>0.821019</td>\n",
       "      <td>0.831484</td>\n",
       "    </tr>\n",
       "    <tr>\n",
       "      <th>2</th>\n",
       "      <td>0.696916</td>\n",
       "      <td>0.346511</td>\n",
       "      <td>0.310262</td>\n",
       "      <td>0.211710</td>\n",
       "      <td>0.640897</td>\n",
       "      <td>0.456993</td>\n",
       "      <td>0.114243</td>\n",
       "      <td>0.350659</td>\n",
       "    </tr>\n",
       "    <tr>\n",
       "      <th>3</th>\n",
       "      <td>0.987756</td>\n",
       "      <td>0.781122</td>\n",
       "      <td>0.480460</td>\n",
       "      <td>0.688503</td>\n",
       "      <td>0.616048</td>\n",
       "      <td>0.369387</td>\n",
       "      <td>0.657435</td>\n",
       "      <td>0.783603</td>\n",
       "    </tr>\n",
       "  </tbody>\n",
       "</table>\n",
       "</div>"
      ],
      "text/plain": [
       "         id    gender       age    region   product     price       qty  \\\n",
       "0  0.139740  0.108803  0.016064  0.535856  0.314496  0.903991  0.348810   \n",
       "1  0.864089  0.116545  0.211947  0.290027  0.341504  0.376843  0.821019   \n",
       "2  0.696916  0.346511  0.310262  0.211710  0.640897  0.456993  0.114243   \n",
       "3  0.987756  0.781122  0.480460  0.688503  0.616048  0.369387  0.657435   \n",
       "\n",
       "       time  \n",
       "0  0.184315  \n",
       "1  0.831484  \n",
       "2  0.350659  \n",
       "3  0.783603  "
      ]
     },
     "execution_count": 19,
     "metadata": {},
     "output_type": "execute_result"
    }
   ],
   "source": [
    "df = pd.DataFrame(ar,columns=['id','gender','age','region','product','price','qty','time'])\n",
    "df"
   ]
  },
  {
   "cell_type": "code",
   "execution_count": null,
   "id": "fc1be924",
   "metadata": {},
   "outputs": [],
   "source": [
    "# Q. id, gender, age 컬럼에 대하여 의미있는 값으로 변환하여 3개의 컬럼으로 구성된 df3를 출력하세요."
   ]
  },
  {
   "cell_type": "code",
   "execution_count": 22,
   "id": "1a10177a",
   "metadata": {},
   "outputs": [
    {
     "data": {
      "text/html": [
       "<div>\n",
       "<style scoped>\n",
       "    .dataframe tbody tr th:only-of-type {\n",
       "        vertical-align: middle;\n",
       "    }\n",
       "\n",
       "    .dataframe tbody tr th {\n",
       "        vertical-align: top;\n",
       "    }\n",
       "\n",
       "    .dataframe thead th {\n",
       "        text-align: right;\n",
       "    }\n",
       "</style>\n",
       "<table border=\"1\" class=\"dataframe\">\n",
       "  <thead>\n",
       "    <tr style=\"text-align: right;\">\n",
       "      <th></th>\n",
       "      <th>id</th>\n",
       "      <th>gender</th>\n",
       "      <th>age</th>\n",
       "    </tr>\n",
       "  </thead>\n",
       "  <tbody>\n",
       "    <tr>\n",
       "      <th>0</th>\n",
       "      <td>30</td>\n",
       "      <td>male</td>\n",
       "      <td>73</td>\n",
       "    </tr>\n",
       "    <tr>\n",
       "      <th>1</th>\n",
       "      <td>74</td>\n",
       "      <td>female</td>\n",
       "      <td>56</td>\n",
       "    </tr>\n",
       "    <tr>\n",
       "      <th>2</th>\n",
       "      <td>79</td>\n",
       "      <td>male</td>\n",
       "      <td>58</td>\n",
       "    </tr>\n",
       "    <tr>\n",
       "      <th>3</th>\n",
       "      <td>80</td>\n",
       "      <td>male</td>\n",
       "      <td>6</td>\n",
       "    </tr>\n",
       "  </tbody>\n",
       "</table>\n",
       "</div>"
      ],
      "text/plain": [
       "   id  gender  age\n",
       "0  30    male   73\n",
       "1  74  female   56\n",
       "2  79    male   58\n",
       "3  80    male    6"
      ]
     },
     "execution_count": 22,
     "metadata": {},
     "output_type": "execute_result"
    }
   ],
   "source": [
    "df.id = np.random.randint(10,99,4)\n",
    "df.gender = np.random.choice(['male','female'],4)\n",
    "df.age = np.random.randint(0,100,4)\n",
    "df[['id','gender','age']]"
   ]
  },
  {
   "cell_type": "code",
   "execution_count": 26,
   "id": "15c6f4bd",
   "metadata": {},
   "outputs": [],
   "source": [
    "# 배열에서 정렬한 후 50%에 해당하는 원소만 출력\n",
    "large_ar = np.random.randn(1000000)\n",
    "large_ar.sort()"
   ]
  },
  {
   "cell_type": "code",
   "execution_count": 27,
   "id": "5365387b",
   "metadata": {},
   "outputs": [
    {
     "data": {
      "text/plain": [
       "-0.0007280381627879577"
      ]
     },
     "execution_count": 27,
     "metadata": {},
     "output_type": "execute_result"
    }
   ],
   "source": [
    "large_ar[int(0.5*len(large_ar))]"
   ]
  },
  {
   "cell_type": "code",
   "execution_count": 28,
   "id": "9a72cc5f",
   "metadata": {},
   "outputs": [
    {
     "data": {
      "text/plain": [
       "array(['Bob', 'Joe', 'Will'], dtype='<U4')"
      ]
     },
     "execution_count": 28,
     "metadata": {},
     "output_type": "execute_result"
    }
   ],
   "source": [
    "# 배열 집합 연산\n",
    "names = np.array(['Bob','Joe','Will','Joe','Joe'])\n",
    "np.unique(names)"
   ]
  },
  {
   "cell_type": "code",
   "execution_count": 29,
   "id": "438cd660",
   "metadata": {},
   "outputs": [
    {
     "data": {
      "text/plain": [
       "['Bob', 'Joe', 'Will']"
      ]
     },
     "execution_count": 29,
     "metadata": {},
     "output_type": "execute_result"
    }
   ],
   "source": [
    "names = np.array(['Bob','Joe','Will','Joe','Joe'])\n",
    "sorted(set(names))"
   ]
  },
  {
   "cell_type": "code",
   "execution_count": 30,
   "id": "710b0f9f",
   "metadata": {},
   "outputs": [
    {
     "data": {
      "text/plain": [
       "array([ True, False, False,  True,  True, False,  True])"
      ]
     },
     "execution_count": 30,
     "metadata": {},
     "output_type": "execute_result"
    }
   ],
   "source": [
    "# 첫번째 배열의 원소가 두번째 배열의 원소를 포함하는지 알려주는 불리언 배열을 반환\n",
    "values = np.array([6,0,0,3,2,5,6])\n",
    "np.in1d(values, [2,3,6])"
   ]
  },
  {
   "cell_type": "code",
   "execution_count": 31,
   "id": "8f262cd0",
   "metadata": {},
   "outputs": [],
   "source": [
    "# 배열 데이터의 입출력\n",
    "ar = np.arange(10)\n",
    "np.save('some_ar',ar)"
   ]
  },
  {
   "cell_type": "code",
   "execution_count": 32,
   "id": "970bd2cb",
   "metadata": {},
   "outputs": [
    {
     "data": {
      "text/plain": [
       "array([0, 1, 2, 3, 4, 5, 6, 7, 8, 9])"
      ]
     },
     "execution_count": 32,
     "metadata": {},
     "output_type": "execute_result"
    }
   ],
   "source": [
    "np.load('some_ar.npy')"
   ]
  },
  {
   "cell_type": "code",
   "execution_count": 33,
   "id": "4c82163c",
   "metadata": {},
   "outputs": [],
   "source": [
    "# np.savez : 여러개의 배열을 압축된 형식으로 저장\n",
    "np.savez('ar_archive.npz', a=ar, b=ar)"
   ]
  },
  {
   "cell_type": "code",
   "execution_count": 35,
   "id": "f4dcb15f",
   "metadata": {},
   "outputs": [
    {
     "data": {
      "text/plain": [
       "array([0, 1, 2, 3, 4, 5, 6, 7, 8, 9])"
      ]
     },
     "execution_count": 35,
     "metadata": {},
     "output_type": "execute_result"
    }
   ],
   "source": [
    "arch = np.load('ar_archive.npz')\n",
    "arch['b']"
   ]
  },
  {
   "cell_type": "code",
   "execution_count": 38,
   "id": "26e8aaa0",
   "metadata": {},
   "outputs": [
    {
     "name": "stdout",
     "output_type": "stream",
     "text": [
      "[1 2 3 4 5 6 7 8 9] \n",
      "\n"
     ]
    },
    {
     "data": {
      "text/plain": [
       "array([0, 1, 2, 3, 4, 5, 6, 7, 8], dtype=int64)"
      ]
     },
     "execution_count": 38,
     "metadata": {},
     "output_type": "execute_result"
    }
   ],
   "source": [
    "a = np.arange(1,10)\n",
    "print(a,'\\n')\n",
    "np.argsort(a)"
   ]
  },
  {
   "cell_type": "code",
   "execution_count": 44,
   "id": "427d08a0",
   "metadata": {},
   "outputs": [
    {
     "data": {
      "text/plain": [
       "array([0, 1, 2, 3, 4, 5, 6, 7, 8], dtype=int64)"
      ]
     },
     "execution_count": 44,
     "metadata": {},
     "output_type": "execute_result"
    }
   ],
   "source": [
    "np.argsort(a)[::]"
   ]
  },
  {
   "cell_type": "code",
   "execution_count": 39,
   "id": "b5fd93b2",
   "metadata": {},
   "outputs": [
    {
     "data": {
      "text/plain": [
       "array([8, 7, 6, 5, 4, 3, 2, 1, 0], dtype=int64)"
      ]
     },
     "execution_count": 39,
     "metadata": {},
     "output_type": "execute_result"
    }
   ],
   "source": [
    "# 인덱스 배열을 역순으로 출력\n",
    "np.argsort(a)[::-1]"
   ]
  },
  {
   "cell_type": "markdown",
   "id": "218f6b50",
   "metadata": {},
   "source": [
    "### 도전과제(7/6)\n",
    "- np.arange(336).reshape(6,7,8)에서 100번째 요소의 인덱스를 구하세요.\n",
    "- np.arange(4)을 이용해서 아래와 같이 출력하세요."
   ]
  },
  {
   "cell_type": "code",
   "execution_count": null,
   "id": "7d13c660",
   "metadata": {},
   "outputs": [],
   "source": [
    "array([[0, 0, 0, 0, 0],\n",
    "       [1, 0, 0, 0, 0],\n",
    "       [0, 2, 0, 0, 0],\n",
    "       [0, 0, 3, 0, 0],\n",
    "       [0, 0, 0, 4, 0]])"
   ]
  },
  {
   "cell_type": "code",
   "execution_count": 45,
   "id": "07de0e28",
   "metadata": {},
   "outputs": [
    {
     "name": "stdout",
     "output_type": "stream",
     "text": [
      "[[ 2  4  7  0  2]\n",
      " [10 10  5  3  4]\n",
      " [10  5  3  0  6]\n",
      " [ 7  9  1  3  3]\n",
      " [ 1  7  1 10  7]] \n",
      "\n",
      "[[-1.87900875e-01  3.17638484e-01  2.91545190e-04 -2.54956268e-01\n",
      "  -1.88046647e-02]\n",
      " [ 1.56268222e-01 -2.75801749e-01 -2.27405248e-02  3.86588921e-01\n",
      "  -3.32361516e-02]\n",
      " [ 6.41399417e-02  1.77842566e-01 -4.66472303e-02 -2.06997085e-01\n",
      "   8.74635569e-03]\n",
      " [-2.02623907e-01  4.15451895e-01 -1.25364431e-01 -3.68804665e-01\n",
      "   8.60058309e-02]\n",
      " [ 1.50874636e-01 -3.88483965e-01  2.08454810e-01  2.06268222e-01\n",
      "   5.46647230e-02]] \n",
      "\n",
      "[[ 1.00000000e+00 -1.11022302e-16 -1.11022302e-16 -2.22044605e-16\n",
      "   2.77555756e-17]\n",
      " [-1.11022302e-16  1.00000000e+00  0.00000000e+00  2.22044605e-16\n",
      "   2.77555756e-17]\n",
      " [-1.66533454e-16  0.00000000e+00  1.00000000e+00  0.00000000e+00\n",
      "   6.93889390e-17]\n",
      " [ 8.32667268e-17 -4.44089210e-16 -5.55111512e-17  1.00000000e+00\n",
      "   3.46944695e-17]\n",
      " [-2.49800181e-16  2.22044605e-16 -5.55111512e-17 -1.11022302e-16\n",
      "   1.00000000e+00]]\n"
     ]
    }
   ],
   "source": [
    "# Q. 0 ~ 10 정수 (5,5)  행렬의 역행렬을 구한 후 두 행렬간의 행렬곱을 구하세요.\n",
    "ar = np.random.randint(11,size=(5,5))\n",
    "print(ar,'\\n')\n",
    "ar_r = np.linalg.inv(ar)\n",
    "print(ar_r,'\\n')\n",
    "ar_d = np.dot(ar,ar_r)\n",
    "print(ar_d)"
   ]
  },
  {
   "cell_type": "markdown",
   "id": "0245420d",
   "metadata": {},
   "source": [
    "### 과제(7/6-2) : 아래 가이드에 따라서 고객별 연간 구매데이터를 생성하고 아래사항을 수행하세요(관측치 1000개)\n",
    "\n",
    "#### Q1. 고객 속성(id, 성별, 연령, 거주지역) 데이터와 거래 데이터를 통합한 데이터 프레임 df를 생성하세요.\n",
    "\n",
    "거래 번호\n",
    "- id : 1 ~ 1000번 일련번호 - 개시 후 1만 건의 거래가 있었고 걍 거기에 넘버링한 거라고 이해해보자\n",
    "\n",
    "고객별 속성 데이터\n",
    "- cusno : 고객번호 1000개 랜덤\n",
    "- gender : 0,1 정수 난수 생성\n",
    "- age : 0 ~ 80사이 정수 난수 생성\n",
    "- region : 1 ~ 10 사이 정수 난수 생성\n",
    "\n",
    "거래 데이터\n",
    "\n",
    "- product_20 : 고가제품(10), 중가제품(20), 저가제품(30)로 구분제품코드 10,20,30\n",
    "- product_21 : 고가제품(10), 중가제품(20), 저가제품(30)로 구분제품코드 10,20,30\n",
    "- price_20 : 1000 ~ 50000 사이 실수 난수 생성\n",
    "- price_21 : 1000 ~ 50000 사이 실수 난수 생성\n",
    "- quantity_20 : 1 ~ 100 사이 정수 난수 생성\n",
    "- quantity_21 : 1 ~ 100 사이 정수 난수 생성\n",
    "\n",
    "- amount_20 : price_20 * quantity_20\n",
    "- amount_21 : price_21 * quantity_21\n",
    "- sales : 20년 대비 21년구매금액이 증가면 1, 감소면 0\n",
    "\n",
    "#### Q2. df를 수정하여 5가지 이상의 인사이트를 포함한 데이터 셋으로 변환하세요\n",
    "\n",
    "#### Q3. df 를 탐색적 분석을 통하여 인사이트를 도출하세요.\n"
   ]
  },
  {
   "cell_type": "code",
   "execution_count": null,
   "id": "4efdc05f",
   "metadata": {},
   "outputs": [],
   "source": []
  }
 ],
 "metadata": {
  "kernelspec": {
   "display_name": "Python 3 (ipykernel)",
   "language": "python",
   "name": "python3"
  },
  "language_info": {
   "codemirror_mode": {
    "name": "ipython",
    "version": 3
   },
   "file_extension": ".py",
   "mimetype": "text/x-python",
   "name": "python",
   "nbconvert_exporter": "python",
   "pygments_lexer": "ipython3",
   "version": "3.8.13"
  }
 },
 "nbformat": 4,
 "nbformat_minor": 5
}
